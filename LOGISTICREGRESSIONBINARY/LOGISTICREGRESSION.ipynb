{
 "cells": [
  {
   "cell_type": "code",
   "execution_count": 1,
   "id": "e7ae6e6a-0376-4a2d-94b3-0da7457c6d6d",
   "metadata": {},
   "outputs": [],
   "source": [
    "import numpy as np\n",
    "import pandas as pd\n",
    "import matplotlib.pyplot as plt"
   ]
  },
  {
   "cell_type": "code",
   "execution_count": 2,
   "id": "6d2d3f80-9182-4a8c-ae23-b77c5241b2f3",
   "metadata": {},
   "outputs": [
    {
     "data": {
      "text/html": [
       "<div>\n",
       "<style scoped>\n",
       "    .dataframe tbody tr th:only-of-type {\n",
       "        vertical-align: middle;\n",
       "    }\n",
       "\n",
       "    .dataframe tbody tr th {\n",
       "        vertical-align: top;\n",
       "    }\n",
       "\n",
       "    .dataframe thead th {\n",
       "        text-align: right;\n",
       "    }\n",
       "</style>\n",
       "<table border=\"1\" class=\"dataframe\">\n",
       "  <thead>\n",
       "    <tr style=\"text-align: right;\">\n",
       "      <th></th>\n",
       "      <th>ID</th>\n",
       "      <th>Feature_1</th>\n",
       "      <th>Feature_2</th>\n",
       "      <th>Feature_3</th>\n",
       "      <th>Feature_4</th>\n",
       "      <th>Feature_5</th>\n",
       "      <th>Feature_6</th>\n",
       "      <th>Feature_7</th>\n",
       "      <th>Feature_8</th>\n",
       "      <th>Feature_9</th>\n",
       "      <th>...</th>\n",
       "      <th>Feature_12</th>\n",
       "      <th>Feature_13</th>\n",
       "      <th>Feature_14</th>\n",
       "      <th>Feature_15</th>\n",
       "      <th>Feature_16</th>\n",
       "      <th>Feature_17</th>\n",
       "      <th>Feature_18</th>\n",
       "      <th>Feature_19</th>\n",
       "      <th>Feature_20</th>\n",
       "      <th>Class</th>\n",
       "    </tr>\n",
       "  </thead>\n",
       "  <tbody>\n",
       "    <tr>\n",
       "      <th>0</th>\n",
       "      <td>1</td>\n",
       "      <td>-36.963099</td>\n",
       "      <td>-15.014703</td>\n",
       "      <td>87.100435</td>\n",
       "      <td>101.523360</td>\n",
       "      <td>82.106571</td>\n",
       "      <td>-10.956180</td>\n",
       "      <td>0.592326</td>\n",
       "      <td>-51.919028</td>\n",
       "      <td>-90.650434</td>\n",
       "      <td>...</td>\n",
       "      <td>-81.183744</td>\n",
       "      <td>13.101921</td>\n",
       "      <td>18.051450</td>\n",
       "      <td>-40.606288</td>\n",
       "      <td>-39.697053</td>\n",
       "      <td>-13.870802</td>\n",
       "      <td>173.722987</td>\n",
       "      <td>-17.349169</td>\n",
       "      <td>-82.550844</td>\n",
       "      <td>0</td>\n",
       "    </tr>\n",
       "    <tr>\n",
       "      <th>1</th>\n",
       "      <td>2</td>\n",
       "      <td>-43.715674</td>\n",
       "      <td>18.847116</td>\n",
       "      <td>89.543406</td>\n",
       "      <td>-71.319314</td>\n",
       "      <td>35.597052</td>\n",
       "      <td>126.358570</td>\n",
       "      <td>-29.837495</td>\n",
       "      <td>-40.473764</td>\n",
       "      <td>-94.079238</td>\n",
       "      <td>...</td>\n",
       "      <td>-37.848260</td>\n",
       "      <td>7.457352</td>\n",
       "      <td>-77.420742</td>\n",
       "      <td>53.773718</td>\n",
       "      <td>-100.124294</td>\n",
       "      <td>9.870650</td>\n",
       "      <td>11.592519</td>\n",
       "      <td>-106.123605</td>\n",
       "      <td>-92.796421</td>\n",
       "      <td>1</td>\n",
       "    </tr>\n",
       "    <tr>\n",
       "      <th>2</th>\n",
       "      <td>3</td>\n",
       "      <td>-30.737550</td>\n",
       "      <td>-63.729643</td>\n",
       "      <td>106.081332</td>\n",
       "      <td>81.773948</td>\n",
       "      <td>112.769976</td>\n",
       "      <td>-12.425351</td>\n",
       "      <td>-29.913286</td>\n",
       "      <td>-41.771200</td>\n",
       "      <td>16.424511</td>\n",
       "      <td>...</td>\n",
       "      <td>-106.610289</td>\n",
       "      <td>5.930143</td>\n",
       "      <td>-30.177083</td>\n",
       "      <td>-138.969234</td>\n",
       "      <td>-56.054914</td>\n",
       "      <td>-12.790661</td>\n",
       "      <td>164.832498</td>\n",
       "      <td>-37.412902</td>\n",
       "      <td>-85.441150</td>\n",
       "      <td>0</td>\n",
       "    </tr>\n",
       "    <tr>\n",
       "      <th>3</th>\n",
       "      <td>4</td>\n",
       "      <td>-27.674757</td>\n",
       "      <td>-118.869495</td>\n",
       "      <td>135.605213</td>\n",
       "      <td>99.130189</td>\n",
       "      <td>50.947548</td>\n",
       "      <td>-63.704785</td>\n",
       "      <td>-7.353057</td>\n",
       "      <td>-58.140229</td>\n",
       "      <td>-80.209027</td>\n",
       "      <td>...</td>\n",
       "      <td>-149.056417</td>\n",
       "      <td>3.893419</td>\n",
       "      <td>-74.100869</td>\n",
       "      <td>-47.659832</td>\n",
       "      <td>-48.209817</td>\n",
       "      <td>-36.264323</td>\n",
       "      <td>59.001922</td>\n",
       "      <td>-59.064134</td>\n",
       "      <td>-78.538639</td>\n",
       "      <td>0</td>\n",
       "    </tr>\n",
       "    <tr>\n",
       "      <th>4</th>\n",
       "      <td>5</td>\n",
       "      <td>-28.654141</td>\n",
       "      <td>-77.746597</td>\n",
       "      <td>85.215365</td>\n",
       "      <td>50.374774</td>\n",
       "      <td>79.763207</td>\n",
       "      <td>-32.703048</td>\n",
       "      <td>-28.152031</td>\n",
       "      <td>-63.994794</td>\n",
       "      <td>-153.566789</td>\n",
       "      <td>...</td>\n",
       "      <td>-102.731465</td>\n",
       "      <td>11.160205</td>\n",
       "      <td>-13.395073</td>\n",
       "      <td>9.416237</td>\n",
       "      <td>2.649524</td>\n",
       "      <td>-43.578704</td>\n",
       "      <td>52.261888</td>\n",
       "      <td>-66.081738</td>\n",
       "      <td>-80.325110</td>\n",
       "      <td>0</td>\n",
       "    </tr>\n",
       "  </tbody>\n",
       "</table>\n",
       "<p>5 rows × 22 columns</p>\n",
       "</div>"
      ],
      "text/plain": [
       "   ID  Feature_1   Feature_2   Feature_3   Feature_4   Feature_5   Feature_6  \\\n",
       "0   1 -36.963099  -15.014703   87.100435  101.523360   82.106571  -10.956180   \n",
       "1   2 -43.715674   18.847116   89.543406  -71.319314   35.597052  126.358570   \n",
       "2   3 -30.737550  -63.729643  106.081332   81.773948  112.769976  -12.425351   \n",
       "3   4 -27.674757 -118.869495  135.605213   99.130189   50.947548  -63.704785   \n",
       "4   5 -28.654141  -77.746597   85.215365   50.374774   79.763207  -32.703048   \n",
       "\n",
       "   Feature_7  Feature_8   Feature_9  ...  Feature_12  Feature_13  Feature_14  \\\n",
       "0   0.592326 -51.919028  -90.650434  ...  -81.183744   13.101921   18.051450   \n",
       "1 -29.837495 -40.473764  -94.079238  ...  -37.848260    7.457352  -77.420742   \n",
       "2 -29.913286 -41.771200   16.424511  ... -106.610289    5.930143  -30.177083   \n",
       "3  -7.353057 -58.140229  -80.209027  ... -149.056417    3.893419  -74.100869   \n",
       "4 -28.152031 -63.994794 -153.566789  ... -102.731465   11.160205  -13.395073   \n",
       "\n",
       "   Feature_15  Feature_16  Feature_17  Feature_18  Feature_19  Feature_20  \\\n",
       "0  -40.606288  -39.697053  -13.870802  173.722987  -17.349169  -82.550844   \n",
       "1   53.773718 -100.124294    9.870650   11.592519 -106.123605  -92.796421   \n",
       "2 -138.969234  -56.054914  -12.790661  164.832498  -37.412902  -85.441150   \n",
       "3  -47.659832  -48.209817  -36.264323   59.001922  -59.064134  -78.538639   \n",
       "4    9.416237    2.649524  -43.578704   52.261888  -66.081738  -80.325110   \n",
       "\n",
       "   Class  \n",
       "0      0  \n",
       "1      1  \n",
       "2      0  \n",
       "3      0  \n",
       "4      0  \n",
       "\n",
       "[5 rows x 22 columns]"
      ]
     },
     "execution_count": 2,
     "metadata": {},
     "output_type": "execute_result"
    }
   ],
   "source": [
    "data = pd.read_csv(\"C:\\\\Users\\\\AK\\\\Downloads\\\\binary_classification_train.csv\")\n",
    "data.head()"
   ]
  },
  {
   "cell_type": "code",
   "execution_count": 3,
   "id": "f6df3820-a4bc-459a-b44a-a2020467500d",
   "metadata": {},
   "outputs": [],
   "source": [
    "X = data.iloc[:, 1:-1]\n",
    "y = data.iloc[:, -1]"
   ]
  },
  {
   "cell_type": "code",
   "execution_count": 4,
   "id": "46242100-5577-41ed-a29c-90e7aec152e0",
   "metadata": {},
   "outputs": [],
   "source": [
    "split_length = int(0.8 * len(y))\n",
    "X_train, X_dev = X[:split_length], X[split_length:]\n",
    "y_train, y_dev = y[:split_length], y[split_length:]"
   ]
  },
  {
   "cell_type": "code",
   "execution_count": 5,
   "id": "9823c39b-08c4-4a0e-af2e-d98dccbbd0f8",
   "metadata": {},
   "outputs": [],
   "source": [
    "X_train_mean = np.mean(X_train, axis=0)\n",
    "X_train_std = np.std(X_train, axis=0)\n",
    "X_train = (X_train - X_train_mean) / X_train_std\n",
    "X_dev = (X_dev - X_train_mean) / X_train_std"
   ]
  },
  {
   "cell_type": "code",
   "execution_count": 6,
   "id": "5a4f75a3-b069-4f48-849a-b734eb55592a",
   "metadata": {},
   "outputs": [],
   "source": [
    "X_train = X_train.astype(np.float32)\n",
    "X_dev = X_dev.astype(np.float32)\n",
    "y_train = y_train.astype(np.float32).values.reshape(-1, 1)\n",
    "y_dev = y_dev.astype(np.float32).values.reshape(-1, 1)"
   ]
  },
  {
   "cell_type": "code",
   "execution_count": 7,
   "id": "524e1e4c-f7f7-4328-882e-a66fa3dee6ec",
   "metadata": {},
   "outputs": [],
   "source": [
    "def sigmoid(Z):\n",
    "    return 1 / (1 + np.exp(-Z))"
   ]
  },
  {
   "cell_type": "code",
   "execution_count": 8,
   "id": "ca88562a-5f08-4dff-a327-2bc6509eb802",
   "metadata": {},
   "outputs": [],
   "source": [
    "def cost_function(X, y, W, b):\n",
    "    m, n = X.shape\n",
    "    Z = np.dot(X, W) + b\n",
    "    A = sigmoid(Z)\n",
    "    cost = (-1 / m) * np.sum(y * np.log(A + 1e-8) + (1 - y) * np.log(1 - A + 1e-8))\n",
    "    dW = (1 / m) * np.dot(X.T, A - y)\n",
    "    db = (1 / m) * np.sum(A - y)\n",
    "    return cost, dW, db"
   ]
  },
  {
   "cell_type": "code",
   "execution_count": 9,
   "id": "a00aa202-f24b-4f26-ba02-eb8de33b23e1",
   "metadata": {},
   "outputs": [],
   "source": [
    "def model(X, y, iterations, alpha):\n",
    "    m, n = X.shape\n",
    "    np.random.seed(42)\n",
    "    W = np.random.randn(n, 1) * 0.01\n",
    "    b = 0\n",
    "    cost_history = []\n",
    "    for i in range(iterations):\n",
    "        cost, dW, db = cost_function(X, y, W, b)\n",
    "        W -= alpha * dW\n",
    "        b -= alpha * db\n",
    "        cost_history.append(cost)\n",
    "        if (i + 1) % 200 == 0:\n",
    "            print(f\"Iteration: {i + 1}/{iterations} -- cost: {cost}\")\n",
    "    return cost_history, W, b"
   ]
  },
  {
   "cell_type": "code",
   "execution_count": 10,
   "id": "fc1600d5-458d-4f1d-88ee-6d8ba9eed4a0",
   "metadata": {},
   "outputs": [
    {
     "name": "stdout",
     "output_type": "stream",
     "text": [
      "Iteration: 200/2000 -- cost: 0.2470801183920775\n",
      "Iteration: 400/2000 -- cost: 0.24702990382294346\n",
      "Iteration: 600/2000 -- cost: 0.24702936397630842\n",
      "Iteration: 800/2000 -- cost: 0.24702935737168694\n",
      "Iteration: 1000/2000 -- cost: 0.24702935728943412\n",
      "Iteration: 1200/2000 -- cost: 0.24702935728829484\n",
      "Iteration: 1400/2000 -- cost: 0.24702935728826653\n",
      "Iteration: 1600/2000 -- cost: 0.2470293572882646\n",
      "Iteration: 1800/2000 -- cost: 0.24702935728826445\n",
      "Iteration: 2000/2000 -- cost: 0.24702935728826445\n"
     ]
    }
   ],
   "source": [
    "cost_history, W, b = model(X_train, y_train, iterations=2000, alpha=0.5)"
   ]
  },
  {
   "cell_type": "code",
   "execution_count": 11,
   "id": "06ef4edd-9b98-4669-9f3e-6d9b3dfd5674",
   "metadata": {},
   "outputs": [],
   "source": [
    "def predict(X, W, b, threshold=0.5):\n",
    "    Z = np.dot(X, W) + b\n",
    "    A = sigmoid(Z)\n",
    "    return (A >= threshold).astype(int)"
   ]
  },
  {
   "cell_type": "code",
   "execution_count": 12,
   "id": "a16cfbb1-0712-4338-929f-56c58f7bb725",
   "metadata": {},
   "outputs": [],
   "source": [
    "def accuracy(y_true, y_pred):\n",
    "    return np.mean(y_pred == y_true)"
   ]
  },
  {
   "cell_type": "code",
   "execution_count": 13,
   "id": "e04663e3-e82f-4940-8ebe-e6c90c7d582a",
   "metadata": {},
   "outputs": [
    {
     "name": "stdout",
     "output_type": "stream",
     "text": [
      "Train Accuracy: 0.93484375\n",
      "Development Accuracy: 0.9357291666666666\n"
     ]
    }
   ],
   "source": [
    "y_pred_train = predict(X_train, W, b)\n",
    "y_pred_dev = predict(X_dev, W, b)\n",
    "train_accuracy = accuracy(y_train, y_pred_train)\n",
    "test_accuracy = accuracy(y_dev, y_pred_dev)\n",
    "\n",
    "print(f\"Train Accuracy: {train_accuracy}\")\n",
    "print(f\"Development Accuracy: {test_accuracy}\")"
   ]
  },
  {
   "cell_type": "code",
   "execution_count": 14,
   "id": "a8dd0ed4-6825-4bdb-a7e3-5c9394196ffa",
   "metadata": {},
   "outputs": [],
   "source": [
    "def calculate_precision(y_true, y_pred):\n",
    "    tp = np.sum((y_true==1) & (y_pred==1))\n",
    "    fp = np.sum((y_true==0) & (y_pred==1))\n",
    "    return (tp / (tp+fp)) if (tp+fp) != 0 else 0"
   ]
  },
  {
   "cell_type": "code",
   "execution_count": 15,
   "id": "ae340db1-ae2b-408a-94a4-c8ab597fb6d7",
   "metadata": {},
   "outputs": [
    {
     "name": "stdout",
     "output_type": "stream",
     "text": [
      "Precision for Development Set: 0.9298561151079137\n",
      "Precision for Training Set: 0.9295192899200281\n"
     ]
    }
   ],
   "source": [
    "precision_dev = calculate_precision(y_dev, y_pred_dev)\n",
    "print(f\"Precision for Development Set: {precision_dev}\")\n",
    "precision_train = calculate_precision(y_train, y_pred_train)\n",
    "print(f\"Precision for Training Set: {precision_train}\")"
   ]
  },
  {
   "cell_type": "code",
   "execution_count": 16,
   "id": "78becf65-461c-4c13-8dd0-2823ab2bf4bc",
   "metadata": {},
   "outputs": [],
   "source": [
    "def calculate_recall(y_true, y_pred):\n",
    "    tp = np.sum((y_true==1) & (y_pred==1))\n",
    "    fn = np.sum((y_true==1) & (y_pred==0))\n",
    "    return (tp / (tp+fn)) if (tp+fn) != 0 else 0"
   ]
  },
  {
   "cell_type": "code",
   "execution_count": 17,
   "id": "cd4c428a-dcad-47c7-9454-d2b24ffbe877",
   "metadata": {},
   "outputs": [
    {
     "name": "stdout",
     "output_type": "stream",
     "text": [
      "Recall for Development Set: 0.8596607914865314\n",
      "Recall for Training Set: 0.8615296896635986\n"
     ]
    }
   ],
   "source": [
    "recall_dev = calculate_recall(y_dev, y_pred_dev)\n",
    "print(f\"Recall for Development Set: {recall_dev}\")\n",
    "recall_train = calculate_recall(y_train, y_pred_train)\n",
    "print(f\"Recall for Training Set: {recall_train}\")"
   ]
  },
  {
   "cell_type": "code",
   "execution_count": 18,
   "id": "12f5e2ed-d5ab-4482-8821-bbe7225f2f1a",
   "metadata": {},
   "outputs": [],
   "source": [
    "def calculate_f1score(precision, recall):\n",
    "    return (2 * precision * recall) / (precision + recall)"
   ]
  },
  {
   "cell_type": "code",
   "execution_count": 19,
   "id": "12cb97ec-5f8a-4c0b-bbdf-f649bb51e3af",
   "metadata": {},
   "outputs": [
    {
     "name": "stdout",
     "output_type": "stream",
     "text": [
      "f1 for Training Set: 0.8942340209671964\n"
     ]
    }
   ],
   "source": [
    "f1score_train = calculate_f1score(precision_train, recall_train)\n",
    "print(f\"f1 for Training Set: {f1score_train}\")"
   ]
  },
  {
   "cell_type": "code",
   "execution_count": 20,
   "id": "4b321dda-afe6-4ef7-be05-247e666007e5",
   "metadata": {},
   "outputs": [
    {
     "name": "stdout",
     "output_type": "stream",
     "text": [
      "f1 for Development Set: 0.8933817176429929\n"
     ]
    }
   ],
   "source": [
    "f1score_dev = calculate_f1score(precision_dev, recall_dev)\n",
    "print(f\"f1 for Development Set: {f1score_dev}\")"
   ]
  },
  {
   "cell_type": "markdown",
   "id": "3d551c5f-ae67-43ab-925e-b2ae0870b6e4",
   "metadata": {},
   "source": [
    "FINAL RESULTS:"
   ]
  },
  {
   "cell_type": "raw",
   "id": "3e141010-ff2e-484c-b50b-bf756b9bc332",
   "metadata": {},
   "source": [
    "ACCURACIES:\n",
    "TRAIN SET: 0.93484375\n",
    "DEVELOPMENT SET: 0.9357291666666666"
   ]
  },
  {
   "cell_type": "raw",
   "id": "62c92e97-77e4-4601-bab8-b32c18ed65ef",
   "metadata": {},
   "source": [
    "PRECISIONS:\n",
    "TRAIN SET: 0.9295192899200281\n",
    "DEVELOPMENT SET: 0.9298561151079137"
   ]
  },
  {
   "cell_type": "raw",
   "id": "4b509bb6-2370-4789-bdf1-3aaf6e9d699d",
   "metadata": {},
   "source": [
    "RECALLS:\n",
    "TRAIN SET: 0.8615296896635986\n",
    "DEVELOPMENT SET: 0.8596607914865314"
   ]
  },
  {
   "cell_type": "raw",
   "id": "8cd846e9-21b8-43ae-a785-c79ae97fd8ed",
   "metadata": {},
   "source": [
    "F1 SCORES:\n",
    "TRAIN SET: 0.8942340209671964\n",
    "DEVELOPMENT SET: 0.8933817176429929"
   ]
  },
  {
   "cell_type": "code",
   "execution_count": 21,
   "id": "940b48d5-22e5-4160-adbe-3ed1d273b6c7",
   "metadata": {},
   "outputs": [
    {
     "data": {
      "text/html": [
       "<div>\n",
       "<style scoped>\n",
       "    .dataframe tbody tr th:only-of-type {\n",
       "        vertical-align: middle;\n",
       "    }\n",
       "\n",
       "    .dataframe tbody tr th {\n",
       "        vertical-align: top;\n",
       "    }\n",
       "\n",
       "    .dataframe thead th {\n",
       "        text-align: right;\n",
       "    }\n",
       "</style>\n",
       "<table border=\"1\" class=\"dataframe\">\n",
       "  <thead>\n",
       "    <tr style=\"text-align: right;\">\n",
       "      <th></th>\n",
       "      <th>ID</th>\n",
       "      <th>Feature_1</th>\n",
       "      <th>Feature_2</th>\n",
       "      <th>Feature_3</th>\n",
       "      <th>Feature_4</th>\n",
       "      <th>Feature_5</th>\n",
       "      <th>Feature_6</th>\n",
       "      <th>Feature_7</th>\n",
       "      <th>Feature_8</th>\n",
       "      <th>Feature_9</th>\n",
       "      <th>...</th>\n",
       "      <th>Feature_11</th>\n",
       "      <th>Feature_12</th>\n",
       "      <th>Feature_13</th>\n",
       "      <th>Feature_14</th>\n",
       "      <th>Feature_15</th>\n",
       "      <th>Feature_16</th>\n",
       "      <th>Feature_17</th>\n",
       "      <th>Feature_18</th>\n",
       "      <th>Feature_19</th>\n",
       "      <th>Feature_20</th>\n",
       "    </tr>\n",
       "  </thead>\n",
       "  <tbody>\n",
       "    <tr>\n",
       "      <th>0</th>\n",
       "      <td>1</td>\n",
       "      <td>-21.263636</td>\n",
       "      <td>-101.510764</td>\n",
       "      <td>70.115563</td>\n",
       "      <td>-67.257828</td>\n",
       "      <td>60.603386</td>\n",
       "      <td>-14.047965</td>\n",
       "      <td>-20.077225</td>\n",
       "      <td>-39.171738</td>\n",
       "      <td>-109.037261</td>\n",
       "      <td>...</td>\n",
       "      <td>7.362312</td>\n",
       "      <td>-55.689290</td>\n",
       "      <td>11.794318</td>\n",
       "      <td>-192.876941</td>\n",
       "      <td>174.389915</td>\n",
       "      <td>-56.913898</td>\n",
       "      <td>-66.920817</td>\n",
       "      <td>136.880728</td>\n",
       "      <td>-53.746527</td>\n",
       "      <td>-88.624312</td>\n",
       "    </tr>\n",
       "    <tr>\n",
       "      <th>1</th>\n",
       "      <td>2</td>\n",
       "      <td>-28.646489</td>\n",
       "      <td>-104.090028</td>\n",
       "      <td>124.098974</td>\n",
       "      <td>-45.906780</td>\n",
       "      <td>85.691869</td>\n",
       "      <td>91.241763</td>\n",
       "      <td>-2.532164</td>\n",
       "      <td>-43.701116</td>\n",
       "      <td>-151.491278</td>\n",
       "      <td>...</td>\n",
       "      <td>-45.258211</td>\n",
       "      <td>-55.069378</td>\n",
       "      <td>11.297918</td>\n",
       "      <td>-212.560404</td>\n",
       "      <td>330.864084</td>\n",
       "      <td>-39.186926</td>\n",
       "      <td>-52.041948</td>\n",
       "      <td>155.040051</td>\n",
       "      <td>-43.390476</td>\n",
       "      <td>-85.584791</td>\n",
       "    </tr>\n",
       "    <tr>\n",
       "      <th>2</th>\n",
       "      <td>3</td>\n",
       "      <td>-34.084427</td>\n",
       "      <td>-149.471464</td>\n",
       "      <td>131.883193</td>\n",
       "      <td>96.372918</td>\n",
       "      <td>41.865528</td>\n",
       "      <td>-14.692982</td>\n",
       "      <td>25.448955</td>\n",
       "      <td>-56.218421</td>\n",
       "      <td>-179.342647</td>\n",
       "      <td>...</td>\n",
       "      <td>-29.196270</td>\n",
       "      <td>-34.475233</td>\n",
       "      <td>0.030514</td>\n",
       "      <td>-41.534695</td>\n",
       "      <td>-36.002752</td>\n",
       "      <td>-90.759938</td>\n",
       "      <td>5.575351</td>\n",
       "      <td>201.929910</td>\n",
       "      <td>-40.225772</td>\n",
       "      <td>-86.235677</td>\n",
       "    </tr>\n",
       "    <tr>\n",
       "      <th>3</th>\n",
       "      <td>4</td>\n",
       "      <td>-38.905587</td>\n",
       "      <td>-126.038930</td>\n",
       "      <td>86.480118</td>\n",
       "      <td>-76.173919</td>\n",
       "      <td>98.722116</td>\n",
       "      <td>15.411935</td>\n",
       "      <td>-35.391915</td>\n",
       "      <td>-23.142612</td>\n",
       "      <td>-109.017318</td>\n",
       "      <td>...</td>\n",
       "      <td>-49.361568</td>\n",
       "      <td>-103.689725</td>\n",
       "      <td>12.311099</td>\n",
       "      <td>-188.698902</td>\n",
       "      <td>229.626393</td>\n",
       "      <td>-35.442610</td>\n",
       "      <td>-72.384866</td>\n",
       "      <td>100.019033</td>\n",
       "      <td>-56.657687</td>\n",
       "      <td>-83.543328</td>\n",
       "    </tr>\n",
       "    <tr>\n",
       "      <th>4</th>\n",
       "      <td>5</td>\n",
       "      <td>-41.041415</td>\n",
       "      <td>-124.302646</td>\n",
       "      <td>89.549410</td>\n",
       "      <td>-98.980090</td>\n",
       "      <td>72.425692</td>\n",
       "      <td>15.907022</td>\n",
       "      <td>5.400643</td>\n",
       "      <td>-32.267154</td>\n",
       "      <td>-181.961829</td>\n",
       "      <td>...</td>\n",
       "      <td>-3.392246</td>\n",
       "      <td>-27.353560</td>\n",
       "      <td>13.073419</td>\n",
       "      <td>-138.289303</td>\n",
       "      <td>151.146083</td>\n",
       "      <td>-60.065501</td>\n",
       "      <td>-45.043483</td>\n",
       "      <td>196.572356</td>\n",
       "      <td>-58.595875</td>\n",
       "      <td>-81.748002</td>\n",
       "    </tr>\n",
       "  </tbody>\n",
       "</table>\n",
       "<p>5 rows × 21 columns</p>\n",
       "</div>"
      ],
      "text/plain": [
       "   ID  Feature_1   Feature_2   Feature_3  Feature_4  Feature_5  Feature_6  \\\n",
       "0   1 -21.263636 -101.510764   70.115563 -67.257828  60.603386 -14.047965   \n",
       "1   2 -28.646489 -104.090028  124.098974 -45.906780  85.691869  91.241763   \n",
       "2   3 -34.084427 -149.471464  131.883193  96.372918  41.865528 -14.692982   \n",
       "3   4 -38.905587 -126.038930   86.480118 -76.173919  98.722116  15.411935   \n",
       "4   5 -41.041415 -124.302646   89.549410 -98.980090  72.425692  15.907022   \n",
       "\n",
       "   Feature_7  Feature_8   Feature_9  ...  Feature_11  Feature_12  Feature_13  \\\n",
       "0 -20.077225 -39.171738 -109.037261  ...    7.362312  -55.689290   11.794318   \n",
       "1  -2.532164 -43.701116 -151.491278  ...  -45.258211  -55.069378   11.297918   \n",
       "2  25.448955 -56.218421 -179.342647  ...  -29.196270  -34.475233    0.030514   \n",
       "3 -35.391915 -23.142612 -109.017318  ...  -49.361568 -103.689725   12.311099   \n",
       "4   5.400643 -32.267154 -181.961829  ...   -3.392246  -27.353560   13.073419   \n",
       "\n",
       "   Feature_14  Feature_15  Feature_16  Feature_17  Feature_18  Feature_19  \\\n",
       "0 -192.876941  174.389915  -56.913898  -66.920817  136.880728  -53.746527   \n",
       "1 -212.560404  330.864084  -39.186926  -52.041948  155.040051  -43.390476   \n",
       "2  -41.534695  -36.002752  -90.759938    5.575351  201.929910  -40.225772   \n",
       "3 -188.698902  229.626393  -35.442610  -72.384866  100.019033  -56.657687   \n",
       "4 -138.289303  151.146083  -60.065501  -45.043483  196.572356  -58.595875   \n",
       "\n",
       "   Feature_20  \n",
       "0  -88.624312  \n",
       "1  -85.584791  \n",
       "2  -86.235677  \n",
       "3  -83.543328  \n",
       "4  -81.748002  \n",
       "\n",
       "[5 rows x 21 columns]"
      ]
     },
     "execution_count": 21,
     "metadata": {},
     "output_type": "execute_result"
    }
   ],
   "source": [
    "test_data = pd.read_csv(\"C:\\\\Users\\\\AK\\\\Downloads\\\\binary_classification_test.csv\")\n",
    "test_data.head()"
   ]
  },
  {
   "cell_type": "code",
   "execution_count": 22,
   "id": "4b434ab4-a146-4632-b0c2-2d46698d7ad4",
   "metadata": {},
   "outputs": [],
   "source": [
    "X_test = test_data.iloc[:, 1:]"
   ]
  },
  {
   "cell_type": "code",
   "execution_count": 23,
   "id": "2afab1b2-3d18-4642-9478-1397f75b9277",
   "metadata": {},
   "outputs": [],
   "source": [
    "X_test = (X_test - X_train_mean) / X_train_std"
   ]
  },
  {
   "cell_type": "code",
   "execution_count": 24,
   "id": "f6d15042-e413-4da9-ae2c-a0bde847e0bd",
   "metadata": {},
   "outputs": [],
   "source": [
    "X_test = X_test.values"
   ]
  },
  {
   "cell_type": "code",
   "execution_count": 25,
   "id": "27d5cd60-50cf-4614-b33d-7bd28a012e0e",
   "metadata": {},
   "outputs": [],
   "source": [
    "Z_test = np.dot(X_test, W) + b\n",
    "A_test = predict(X_test, W, b, threshold=0.5)"
   ]
  },
  {
   "cell_type": "code",
   "execution_count": 26,
   "id": "f06e73ad-1173-413b-ab07-ad5f6cc61c35",
   "metadata": {},
   "outputs": [],
   "source": [
    "test_df = pd.DataFrame(A_test)"
   ]
  },
  {
   "cell_type": "code",
   "execution_count": 27,
   "id": "33602f07-f665-47f2-8b8e-1891ab954afc",
   "metadata": {},
   "outputs": [],
   "source": [
    "test_data['PREDICTIONS'] = test_df"
   ]
  },
  {
   "cell_type": "code",
   "execution_count": 29,
   "id": "160294f5-aa61-414f-a2fc-010e868c56a9",
   "metadata": {},
   "outputs": [],
   "source": [
    "test_data.to_csv(\"BINARY CLASSIFICATION USING LOGISTIC REGRESSION RESULTS.csv\")"
   ]
  },
  {
   "cell_type": "code",
   "execution_count": null,
   "id": "2213a440-f24a-4975-910f-68c4317d52d9",
   "metadata": {},
   "outputs": [],
   "source": []
  }
 ],
 "metadata": {
  "kernelspec": {
   "display_name": "Python 3 (ipykernel)",
   "language": "python",
   "name": "python3"
  },
  "language_info": {
   "codemirror_mode": {
    "name": "ipython",
    "version": 3
   },
   "file_extension": ".py",
   "mimetype": "text/x-python",
   "name": "python",
   "nbconvert_exporter": "python",
   "pygments_lexer": "ipython3",
   "version": "3.11.3"
  }
 },
 "nbformat": 4,
 "nbformat_minor": 5
}
