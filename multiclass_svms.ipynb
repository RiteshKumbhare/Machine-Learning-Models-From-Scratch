{
  "nbformat": 4,
  "nbformat_minor": 0,
  "metadata": {
    "colab": {
      "provenance": []
    },
    "kernelspec": {
      "name": "python3",
      "display_name": "Python 3"
    },
    "language_info": {
      "name": "python"
    }
  },
  "cells": [
    {
      "cell_type": "code",
      "source": [
        "import numpy as np\n",
        "from tensorflow.keras.datasets import mnist\n",
        "\n",
        "(X_full, y_full), (_, _) = mnist.load_data()\n",
        "\n",
        "X_full = X_full.reshape(X_full.shape[0], -1) / 255.0\n",
        "\n",
        "X_train, y_train = X_full[:5000], y_full[:5000]\n",
        "X_test, y_test = X_full[5000:6000], y_full[5000:6000]\n",
        "\n",
        "X_train = np.hstack([X_train, np.ones((X_train.shape[0], 1))])\n",
        "X_test = np.hstack([X_test, np.ones((X_test.shape[0], 1))])"
      ],
      "metadata": {
        "id": "gXziC60c5H2R"
      },
      "execution_count": 6,
      "outputs": []
    },
    {
      "cell_type": "code",
      "source": [
        "num_classes = 10\n",
        "W = np.random.randn(X_train.shape[1], num_classes) * 0.001"
      ],
      "metadata": {
        "id": "c7VwGv2L5IrN"
      },
      "execution_count": 7,
      "outputs": []
    },
    {
      "cell_type": "code",
      "source": [
        "def svm_loss_naive(W, X, y, reg):\n",
        "    dW = np.zeros(W.shape)\n",
        "    num_classes = W.shape[1]\n",
        "    num_train = X.shape[0]\n",
        "    loss = 0.0\n",
        "\n",
        "    for i in range(num_train):\n",
        "        scores = X[i].dot(W)\n",
        "        correct_class_score = scores[y[i]]\n",
        "\n",
        "        for j in range(num_classes):\n",
        "            if j == y[i]:\n",
        "                continue\n",
        "\n",
        "            margin = scores[j] - correct_class_score + 1\n",
        "            if margin > 0:\n",
        "                loss += margin\n",
        "                dW[:, j] += X[i]\n",
        "                dW[:, y[i]] -= X[i]\n",
        "\n",
        "    loss /= num_train\n",
        "    dW /= num_train\n",
        "\n",
        "    loss += reg * np.sum(W * W)\n",
        "    dW += 2 * reg * W\n",
        "\n",
        "    return loss, dW"
      ],
      "metadata": {
        "id": "Mt-EAXrk5LaX"
      },
      "execution_count": 8,
      "outputs": []
    },
    {
      "cell_type": "code",
      "source": [
        "def train_svm(X, y, W, learning_rate, reg, num_iters):\n",
        "    for i in range(num_iters):\n",
        "        loss, dW = svm_loss_naive(W, X, y, reg)\n",
        "        W -= learning_rate * dW\n",
        "    return W"
      ],
      "metadata": {
        "id": "b-SBkRld5OwL"
      },
      "execution_count": 9,
      "outputs": []
    },
    {
      "cell_type": "code",
      "source": [
        "def predict(X, W):\n",
        "    scores = X.dot(W)\n",
        "    return np.argmax(scores, axis=1)"
      ],
      "metadata": {
        "id": "DaUXzLvs5Rmc"
      },
      "execution_count": 10,
      "outputs": []
    },
    {
      "cell_type": "code",
      "source": [
        "learning_rate = 0.001\n",
        "reg = 0.1\n",
        "num_iters = 1000"
      ],
      "metadata": {
        "id": "Xf3uL0Ii5T-O"
      },
      "execution_count": 11,
      "outputs": []
    },
    {
      "cell_type": "code",
      "source": [
        "W = train_svm(X_train, y_train, W, learning_rate, reg, num_iters)"
      ],
      "metadata": {
        "id": "lAPy4LJk5YlI"
      },
      "execution_count": 12,
      "outputs": []
    },
    {
      "cell_type": "code",
      "source": [
        "y_train_pred = predict(X_train, W)\n",
        "y_test_pred = predict(X_test, W)"
      ],
      "metadata": {
        "id": "PX5Jrx505bl2"
      },
      "execution_count": 13,
      "outputs": []
    },
    {
      "cell_type": "code",
      "source": [
        "\n",
        "train_accuracy = np.mean(y_train_pred == y_train)\n",
        "test_accuracy = np.mean(y_test_pred == y_test)\n",
        "\n",
        "print(\"Training Accuracy:\", train_accuracy)\n",
        "print(\"Testing Accuracy:\", test_accuracy)"
      ],
      "metadata": {
        "colab": {
          "base_uri": "https://localhost:8080/"
        },
        "id": "h-O53phx6f6S",
        "outputId": "7a1c89da-0ed9-4b8b-a68f-764ede7cf1bc"
      },
      "execution_count": 14,
      "outputs": [
        {
          "output_type": "stream",
          "name": "stdout",
          "text": [
            "Training Accuracy: 0.8848\n",
            "Testing Accuracy: 0.881\n"
          ]
        }
      ]
    },
    {
      "cell_type": "code",
      "source": [],
      "metadata": {
        "id": "sKwT_XE86kBl"
      },
      "execution_count": null,
      "outputs": []
    }
  ]
}