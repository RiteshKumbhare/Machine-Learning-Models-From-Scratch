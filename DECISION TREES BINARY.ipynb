{
 "cells": [
  {
   "cell_type": "code",
   "execution_count": 1,
   "id": "f760991d-025d-46c2-812e-dcf66310207a",
   "metadata": {},
   "outputs": [],
   "source": [
    "import pandas as pd\n",
    "import numpy as np\n",
    "import matplotlib.pyplot as plt"
   ]
  },
  {
   "cell_type": "code",
   "execution_count": 2,
   "id": "cfc0606e-f294-4182-bb62-dad29b9da76b",
   "metadata": {},
   "outputs": [
    {
     "data": {
      "text/html": [
       "<div>\n",
       "<style scoped>\n",
       "    .dataframe tbody tr th:only-of-type {\n",
       "        vertical-align: middle;\n",
       "    }\n",
       "\n",
       "    .dataframe tbody tr th {\n",
       "        vertical-align: top;\n",
       "    }\n",
       "\n",
       "    .dataframe thead th {\n",
       "        text-align: right;\n",
       "    }\n",
       "</style>\n",
       "<table border=\"1\" class=\"dataframe\">\n",
       "  <thead>\n",
       "    <tr style=\"text-align: right;\">\n",
       "      <th></th>\n",
       "      <th>ID</th>\n",
       "      <th>Feature_1</th>\n",
       "      <th>Feature_2</th>\n",
       "      <th>Feature_3</th>\n",
       "      <th>Feature_4</th>\n",
       "      <th>Feature_5</th>\n",
       "      <th>Feature_6</th>\n",
       "      <th>Feature_7</th>\n",
       "      <th>Feature_8</th>\n",
       "      <th>Feature_9</th>\n",
       "      <th>...</th>\n",
       "      <th>Feature_12</th>\n",
       "      <th>Feature_13</th>\n",
       "      <th>Feature_14</th>\n",
       "      <th>Feature_15</th>\n",
       "      <th>Feature_16</th>\n",
       "      <th>Feature_17</th>\n",
       "      <th>Feature_18</th>\n",
       "      <th>Feature_19</th>\n",
       "      <th>Feature_20</th>\n",
       "      <th>Class</th>\n",
       "    </tr>\n",
       "  </thead>\n",
       "  <tbody>\n",
       "    <tr>\n",
       "      <th>0</th>\n",
       "      <td>1</td>\n",
       "      <td>-36.963099</td>\n",
       "      <td>-15.014703</td>\n",
       "      <td>87.100435</td>\n",
       "      <td>101.523360</td>\n",
       "      <td>82.106571</td>\n",
       "      <td>-10.956180</td>\n",
       "      <td>0.592326</td>\n",
       "      <td>-51.919028</td>\n",
       "      <td>-90.650434</td>\n",
       "      <td>...</td>\n",
       "      <td>-81.183744</td>\n",
       "      <td>13.101921</td>\n",
       "      <td>18.051450</td>\n",
       "      <td>-40.606288</td>\n",
       "      <td>-39.697053</td>\n",
       "      <td>-13.870802</td>\n",
       "      <td>173.722987</td>\n",
       "      <td>-17.349169</td>\n",
       "      <td>-82.550844</td>\n",
       "      <td>0</td>\n",
       "    </tr>\n",
       "    <tr>\n",
       "      <th>1</th>\n",
       "      <td>2</td>\n",
       "      <td>-43.715674</td>\n",
       "      <td>18.847116</td>\n",
       "      <td>89.543406</td>\n",
       "      <td>-71.319314</td>\n",
       "      <td>35.597052</td>\n",
       "      <td>126.358570</td>\n",
       "      <td>-29.837495</td>\n",
       "      <td>-40.473764</td>\n",
       "      <td>-94.079238</td>\n",
       "      <td>...</td>\n",
       "      <td>-37.848260</td>\n",
       "      <td>7.457352</td>\n",
       "      <td>-77.420742</td>\n",
       "      <td>53.773718</td>\n",
       "      <td>-100.124294</td>\n",
       "      <td>9.870650</td>\n",
       "      <td>11.592519</td>\n",
       "      <td>-106.123605</td>\n",
       "      <td>-92.796421</td>\n",
       "      <td>1</td>\n",
       "    </tr>\n",
       "    <tr>\n",
       "      <th>2</th>\n",
       "      <td>3</td>\n",
       "      <td>-30.737550</td>\n",
       "      <td>-63.729643</td>\n",
       "      <td>106.081332</td>\n",
       "      <td>81.773948</td>\n",
       "      <td>112.769976</td>\n",
       "      <td>-12.425351</td>\n",
       "      <td>-29.913286</td>\n",
       "      <td>-41.771200</td>\n",
       "      <td>16.424511</td>\n",
       "      <td>...</td>\n",
       "      <td>-106.610289</td>\n",
       "      <td>5.930143</td>\n",
       "      <td>-30.177083</td>\n",
       "      <td>-138.969234</td>\n",
       "      <td>-56.054914</td>\n",
       "      <td>-12.790661</td>\n",
       "      <td>164.832498</td>\n",
       "      <td>-37.412902</td>\n",
       "      <td>-85.441150</td>\n",
       "      <td>0</td>\n",
       "    </tr>\n",
       "    <tr>\n",
       "      <th>3</th>\n",
       "      <td>4</td>\n",
       "      <td>-27.674757</td>\n",
       "      <td>-118.869495</td>\n",
       "      <td>135.605213</td>\n",
       "      <td>99.130189</td>\n",
       "      <td>50.947548</td>\n",
       "      <td>-63.704785</td>\n",
       "      <td>-7.353057</td>\n",
       "      <td>-58.140229</td>\n",
       "      <td>-80.209027</td>\n",
       "      <td>...</td>\n",
       "      <td>-149.056417</td>\n",
       "      <td>3.893419</td>\n",
       "      <td>-74.100869</td>\n",
       "      <td>-47.659832</td>\n",
       "      <td>-48.209817</td>\n",
       "      <td>-36.264323</td>\n",
       "      <td>59.001922</td>\n",
       "      <td>-59.064134</td>\n",
       "      <td>-78.538639</td>\n",
       "      <td>0</td>\n",
       "    </tr>\n",
       "    <tr>\n",
       "      <th>4</th>\n",
       "      <td>5</td>\n",
       "      <td>-28.654141</td>\n",
       "      <td>-77.746597</td>\n",
       "      <td>85.215365</td>\n",
       "      <td>50.374774</td>\n",
       "      <td>79.763207</td>\n",
       "      <td>-32.703048</td>\n",
       "      <td>-28.152031</td>\n",
       "      <td>-63.994794</td>\n",
       "      <td>-153.566789</td>\n",
       "      <td>...</td>\n",
       "      <td>-102.731465</td>\n",
       "      <td>11.160205</td>\n",
       "      <td>-13.395073</td>\n",
       "      <td>9.416237</td>\n",
       "      <td>2.649524</td>\n",
       "      <td>-43.578704</td>\n",
       "      <td>52.261888</td>\n",
       "      <td>-66.081738</td>\n",
       "      <td>-80.325110</td>\n",
       "      <td>0</td>\n",
       "    </tr>\n",
       "  </tbody>\n",
       "</table>\n",
       "<p>5 rows × 22 columns</p>\n",
       "</div>"
      ],
      "text/plain": [
       "   ID  Feature_1   Feature_2   Feature_3   Feature_4   Feature_5   Feature_6  \\\n",
       "0   1 -36.963099  -15.014703   87.100435  101.523360   82.106571  -10.956180   \n",
       "1   2 -43.715674   18.847116   89.543406  -71.319314   35.597052  126.358570   \n",
       "2   3 -30.737550  -63.729643  106.081332   81.773948  112.769976  -12.425351   \n",
       "3   4 -27.674757 -118.869495  135.605213   99.130189   50.947548  -63.704785   \n",
       "4   5 -28.654141  -77.746597   85.215365   50.374774   79.763207  -32.703048   \n",
       "\n",
       "   Feature_7  Feature_8   Feature_9  ...  Feature_12  Feature_13  Feature_14  \\\n",
       "0   0.592326 -51.919028  -90.650434  ...  -81.183744   13.101921   18.051450   \n",
       "1 -29.837495 -40.473764  -94.079238  ...  -37.848260    7.457352  -77.420742   \n",
       "2 -29.913286 -41.771200   16.424511  ... -106.610289    5.930143  -30.177083   \n",
       "3  -7.353057 -58.140229  -80.209027  ... -149.056417    3.893419  -74.100869   \n",
       "4 -28.152031 -63.994794 -153.566789  ... -102.731465   11.160205  -13.395073   \n",
       "\n",
       "   Feature_15  Feature_16  Feature_17  Feature_18  Feature_19  Feature_20  \\\n",
       "0  -40.606288  -39.697053  -13.870802  173.722987  -17.349169  -82.550844   \n",
       "1   53.773718 -100.124294    9.870650   11.592519 -106.123605  -92.796421   \n",
       "2 -138.969234  -56.054914  -12.790661  164.832498  -37.412902  -85.441150   \n",
       "3  -47.659832  -48.209817  -36.264323   59.001922  -59.064134  -78.538639   \n",
       "4    9.416237    2.649524  -43.578704   52.261888  -66.081738  -80.325110   \n",
       "\n",
       "   Class  \n",
       "0      0  \n",
       "1      1  \n",
       "2      0  \n",
       "3      0  \n",
       "4      0  \n",
       "\n",
       "[5 rows x 22 columns]"
      ]
     },
     "execution_count": 2,
     "metadata": {},
     "output_type": "execute_result"
    }
   ],
   "source": [
    "data = pd.read_csv(\"C:\\\\Users\\\\AK\\\\Downloads\\\\binary_classification_train.csv\")\n",
    "data.head()"
   ]
  },
  {
   "cell_type": "code",
   "execution_count": 3,
   "id": "ce390ed6-ce39-4bb2-9c74-c376d1ee9801",
   "metadata": {},
   "outputs": [],
   "source": [
    "X = data[['Feature_6', 'Feature_15', 'Feature_16', 'Feature_17', 'Feature_18', 'Feature_19']]\n",
    "y = data['Class']"
   ]
  },
  {
   "cell_type": "code",
   "execution_count": 4,
   "id": "69d4757c-216e-43c6-a43b-f7e5e8bc1566",
   "metadata": {},
   "outputs": [],
   "source": [
    "split_length = int(0.8 * len(y))\n",
    "X_train, X_dev = X[:split_length].values, X[split_length:].values\n",
    "y_train, y_dev = y[:split_length].values, y[split_length:].values"
   ]
  },
  {
   "cell_type": "code",
   "execution_count": 5,
   "id": "c96a99c5-d74f-48e9-8133-8459f543d1ba",
   "metadata": {},
   "outputs": [],
   "source": [
    "X_train_mean = np.mean(X_train, axis=0)\n",
    "X_train_std = np.std(X_train, axis=0)\n",
    "X_train = (X_train - X_train_mean) / X_train_std\n",
    "X_dev = (X_dev - X_train_mean) / X_train_std"
   ]
  },
  {
   "cell_type": "code",
   "execution_count": 6,
   "id": "b9716328-00bb-4e3a-8197-690f1eed1a19",
   "metadata": {},
   "outputs": [],
   "source": [
    "def gini_impurity(y):\n",
    "    counts = np.bincount(y.astype(int))\n",
    "    probabilities = counts / len(y)\n",
    "    return 1 - np.sum(probabilities**2)"
   ]
  },
  {
   "cell_type": "code",
   "execution_count": 7,
   "id": "f8118ef5-60f6-4b68-9347-cf8e3443395a",
   "metadata": {},
   "outputs": [],
   "source": [
    "def information_gain(y, left_y, right_y):\n",
    "    parent_gini = gini_impurity(y)\n",
    "    n = len(y)\n",
    "    left_weight = len(left_y) / n\n",
    "    right_weight = len(right_y) / n\n",
    "    weighted_gini = left_weight * gini_impurity(left_y) + right_weight * gini_impurity(right_y)\n",
    "    return parent_gini - weighted_gini"
   ]
  },
  {
   "cell_type": "code",
   "execution_count": 8,
   "id": "59a57c5e-9bfc-4e71-b1ee-87bff7f41cff",
   "metadata": {},
   "outputs": [],
   "source": [
    "def leaf(y):\n",
    "    unique, counts = np.unique(y, return_counts=True)\n",
    "    return unique[np.argmax(counts)]"
   ]
  },
  {
   "cell_type": "code",
   "execution_count": 9,
   "id": "77bbeb4f-b866-4f3b-bde7-25944757326c",
   "metadata": {},
   "outputs": [],
   "source": [
    "def best_split(X, y, min_samples_split, min_samples_leaf):\n",
    "    best_gain = -1\n",
    "    split = None\n",
    "    for feature_idx in range(X.shape[1]):\n",
    "        sorted_indices = X[:, feature_idx].argsort()\n",
    "        sorted_X, sorted_y = X[sorted_indices, feature_idx], y[sorted_indices]\n",
    "        for i in range(min_samples_leaf, len(sorted_y) - min_samples_leaf):\n",
    "            if sorted_X[i] == sorted_X[i - 1]:\n",
    "                continue\n",
    "            left_y, right_y = sorted_y[:i], sorted_y[i:]\n",
    "            gain = information_gain(y, left_y, right_y)\n",
    "            if gain > best_gain:\n",
    "                best_gain = gain\n",
    "                split = {\n",
    "                    'feature': feature_idx,\n",
    "                    'threshold': (sorted_X[i] + sorted_X[i - 1]) / 2,\n",
    "                    'left_indices': sorted_indices[:i],\n",
    "                    'right_indices': sorted_indices[i:]\n",
    "                }\n",
    "    return split"
   ]
  },
  {
   "cell_type": "code",
   "execution_count": 10,
   "id": "be7b2f47-acb0-4a0c-b070-45a7e13bf0a1",
   "metadata": {},
   "outputs": [],
   "source": [
    "def build_tree(X, y, max_depth=None, min_samples_split=2, min_samples_leaf=1, depth=0):\n",
    "    n_samples, n_features = X.shape\n",
    "    n_labels = len(np.unique(y))\n",
    "    if depth >= max_depth or n_samples < min_samples_split or n_labels == 1:\n",
    "        return leaf(y)\n",
    "    split_info = best_split(X, y, min_samples_split, min_samples_leaf)\n",
    "    if not split_info:\n",
    "        return leaf(y)\n",
    "    left_tree = build_tree(\n",
    "        X[split_info['left_indices']], y[split_info['left_indices']],\n",
    "        max_depth, min_samples_split, min_samples_leaf, depth + 1\n",
    "    )\n",
    "    right_tree = build_tree(\n",
    "        X[split_info['right_indices']], y[split_info['right_indices']],\n",
    "        max_depth, min_samples_split, min_samples_leaf, depth + 1\n",
    "    )\n",
    "    return {\n",
    "        'feature': split_info['feature'],\n",
    "        'threshold': split_info['threshold'],\n",
    "        'left': left_tree,\n",
    "        'right': right_tree\n",
    "    }"
   ]
  },
  {
   "cell_type": "code",
   "execution_count": 11,
   "id": "a07f3978-b980-47b9-b060-b41717680828",
   "metadata": {},
   "outputs": [],
   "source": [
    "def traverse_tree(x, tree):\n",
    "    if not isinstance(tree, dict):\n",
    "        return tree\n",
    "    if x[tree['feature']] <= tree['threshold']:\n",
    "        return traverse_tree(x, tree['left'])\n",
    "    return traverse_tree(x, tree['right'])"
   ]
  },
  {
   "cell_type": "code",
   "execution_count": 12,
   "id": "981477b3-b45d-4ae4-b9e4-d0199edd5196",
   "metadata": {},
   "outputs": [],
   "source": [
    "def predict(X, tree):\n",
    "    return np.array([traverse_tree(x, tree) for x in X])"
   ]
  },
  {
   "cell_type": "code",
   "execution_count": 13,
   "id": "3c581999-e3e4-4d33-8979-63aca74c4ed7",
   "metadata": {},
   "outputs": [],
   "source": [
    "def accuracy(y_true, y_pred):\n",
    "    return np.mean(y_true == y_pred)"
   ]
  },
  {
   "cell_type": "code",
   "execution_count": 14,
   "id": "bfd100e3-61f2-490a-a900-15f4bed3faaf",
   "metadata": {},
   "outputs": [
    {
     "name": "stdout",
     "output_type": "stream",
     "text": [
      "Training Accuracy: 93.09%\n",
      "Development Accuracy: 93.11%\n"
     ]
    }
   ],
   "source": [
    "max_depth = 5\n",
    "min_samples_split = 10\n",
    "min_samples_leaf = 5\n",
    "tree = build_tree(X_train, y_train, max_depth=max_depth, min_samples_split=min_samples_split, min_samples_leaf=min_samples_leaf)\n",
    "y_train_pred = predict(X_train, tree)\n",
    "y_dev_pred = predict(X_dev, tree)\n",
    "train_acc = accuracy(y_train, y_train_pred)\n",
    "dev_acc = accuracy(y_dev, y_dev_pred)\n",
    "print(f\"Training Accuracy: {train_acc * 100:.2f}%\")\n",
    "print(f\"Development Accuracy: {dev_acc * 100:.2f}%\")"
   ]
  },
  {
   "cell_type": "code",
   "execution_count": 15,
   "id": "5a72e407-4e8d-4bd4-8e8d-1020eec410d1",
   "metadata": {},
   "outputs": [],
   "source": [
    "def calculate_precision(y_true, y_pred):\n",
    "    tp = np.sum((y_true==1) & (y_pred==1))\n",
    "    fp = np.sum((y_true==0) & (y_pred==1))\n",
    "    return (tp / (tp+fp)) if (tp+fp) != 0 else 0"
   ]
  },
  {
   "cell_type": "code",
   "execution_count": 16,
   "id": "16eb0cd7-4bac-4e52-b0af-9db0359ddd79",
   "metadata": {},
   "outputs": [
    {
     "name": "stdout",
     "output_type": "stream",
     "text": [
      "Precision for Development Set: 0.9341228719467062\n",
      "Precision for Training Set: 0.9380007283321194\n"
     ]
    }
   ],
   "source": [
    "precision_dev = calculate_precision(y_dev, y_dev_pred)\n",
    "print(f\"Precision for Development Set: {precision_dev}\")\n",
    "precision_train = calculate_precision(y_train, y_train_pred)\n",
    "print(f\"Precision for Training Set: {precision_train}\")"
   ]
  },
  {
   "cell_type": "code",
   "execution_count": 17,
   "id": "3076347e-521f-4933-a001-6490eaefd65e",
   "metadata": {},
   "outputs": [],
   "source": [
    "def calculate_recall(y_true, y_pred):\n",
    "    tp = np.sum((y_true==1) & (y_pred==1))\n",
    "    fn = np.sum((y_true==1) & (y_pred==0))\n",
    "    return (tp / (tp+fn)) if (tp+fn) != 0 else 0"
   ]
  },
  {
   "cell_type": "code",
   "execution_count": 18,
   "id": "19ba6a20-b70b-4b96-a182-efa9cca26732",
   "metadata": {},
   "outputs": [
    {
     "name": "stdout",
     "output_type": "stream",
     "text": [
      "Recall for Development Set: 0.8393747921516461\n",
      "Recall for Training Set: 0.8392115337623198\n"
     ]
    }
   ],
   "source": [
    "recall_dev = calculate_recall(y_dev, y_dev_pred)\n",
    "print(f\"Recall for Development Set: {recall_dev}\")\n",
    "recall_train = calculate_recall(y_train, y_train_pred)\n",
    "print(f\"Recall for Training Set: {recall_train}\")"
   ]
  },
  {
   "cell_type": "code",
   "execution_count": 19,
   "id": "164aff63-f633-4b12-98d8-5db4a0a9d55b",
   "metadata": {},
   "outputs": [],
   "source": [
    "def calculate_f1score(precision, recall):\n",
    "    return (2 * precision * recall) / (precision + recall)"
   ]
  },
  {
   "cell_type": "code",
   "execution_count": 20,
   "id": "0abe3f38-6230-4c0d-84a9-389ec12892ab",
   "metadata": {},
   "outputs": [
    {
     "name": "stdout",
     "output_type": "stream",
     "text": [
      "f1 for Training Set: 0.8858604531189544\n"
     ]
    }
   ],
   "source": [
    "f1score_train = calculate_f1score(precision_train, recall_train)\n",
    "print(f\"f1 for Training Set: {f1score_train}\")"
   ]
  },
  {
   "cell_type": "code",
   "execution_count": 21,
   "id": "5cb371ba-2b54-45b1-aa8c-5fab454c4d0a",
   "metadata": {},
   "outputs": [
    {
     "name": "stdout",
     "output_type": "stream",
     "text": [
      "f1 for Development Set: 0.8842179015589421\n"
     ]
    }
   ],
   "source": [
    "f1score_dev = calculate_f1score(precision_dev, recall_dev)\n",
    "print(f\"f1 for Development Set: {f1score_dev}\")"
   ]
  }
 ],
 "metadata": {
  "kernelspec": {
   "display_name": "Python 3 (ipykernel)",
   "language": "python",
   "name": "python3"
  },
  "language_info": {
   "codemirror_mode": {
    "name": "ipython",
    "version": 3
   },
   "file_extension": ".py",
   "mimetype": "text/x-python",
   "name": "python",
   "nbconvert_exporter": "python",
   "pygments_lexer": "ipython3",
   "version": "3.11.3"
  }
 },
 "nbformat": 4,
 "nbformat_minor": 5
}
