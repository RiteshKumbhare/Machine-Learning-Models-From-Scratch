{
  "nbformat": 4,
  "nbformat_minor": 0,
  "metadata": {
    "colab": {
      "provenance": []
    },
    "kernelspec": {
      "name": "python3",
      "display_name": "Python 3"
    },
    "language_info": {
      "name": "python"
    }
  },
  "cells": [
    {
      "cell_type": "code",
      "execution_count": 1,
      "metadata": {
        "id": "gVozhB0BExHD"
      },
      "outputs": [],
      "source": [
        "import pandas as pd\n",
        "import numpy as np\n",
        "import matplotlib.pyplot as plt"
      ]
    },
    {
      "cell_type": "code",
      "source": [
        "import tensorflow as tf\n",
        "from tensorflow.keras.datasets import mnist\n",
        "\n",
        "# Load dataset\n",
        "(x_train, y_train), (x_test, y_test) = mnist.load_data()\n",
        "\n",
        "# Normalize pixel values (optional but recommended)\n",
        "x_train, x_test = x_train / 255.0, x_test / 255.0\n",
        "\n",
        "print(\"Train shape:\", x_train.shape, y_train.shape)\n",
        "print(\"Test shape:\", x_test.shape, y_test.shape)"
      ],
      "metadata": {
        "colab": {
          "base_uri": "https://localhost:8080/"
        },
        "id": "OkVhN8qiFHvJ",
        "outputId": "f0b7d264-a22d-4da9-9b6b-cff406999741"
      },
      "execution_count": 2,
      "outputs": [
        {
          "output_type": "stream",
          "name": "stdout",
          "text": [
            "Downloading data from https://storage.googleapis.com/tensorflow/tf-keras-datasets/mnist.npz\n",
            "\u001b[1m11490434/11490434\u001b[0m \u001b[32m━━━━━━━━━━━━━━━━━━━━\u001b[0m\u001b[37m\u001b[0m \u001b[1m0s\u001b[0m 0us/step\n",
            "Train shape: (60000, 28, 28) (60000,)\n",
            "Test shape: (10000, 28, 28) (10000,)\n"
          ]
        }
      ]
    },
    {
      "cell_type": "code",
      "source": [
        "X_train, Y_train = x_train[0:1000], y_train[0:1000]"
      ],
      "metadata": {
        "id": "4Jeqr_DVFVsn"
      },
      "execution_count": 7,
      "outputs": []
    },
    {
      "cell_type": "code",
      "source": [
        "X_test = x_test[0:100]\n",
        "Y_test = y_test[0:100]"
      ],
      "metadata": {
        "id": "saI17dMEFjov"
      },
      "execution_count": 8,
      "outputs": []
    },
    {
      "cell_type": "code",
      "source": [
        "X_train = X_train.reshape(1000, 28*28)\n",
        "X_test = X_test.reshape(100, 28*28)\n",
        "Y_train = Y_train.reshape(1000, 1)\n",
        "Y_test = Y_test.reshape(100, 1)"
      ],
      "metadata": {
        "id": "rgLk7ZgWFlgo"
      },
      "execution_count": 9,
      "outputs": []
    },
    {
      "cell_type": "code",
      "source": [
        "def distance(X, Y, X_):\n",
        "  training_exs = X.shape[0]\n",
        "  testing_exs = X_.shape[0]\n",
        "  dists = np.zeros((X_.shape[0], X.shape[0]))\n",
        "\n",
        "  for i in range(testing_exs):\n",
        "    for j in range(training_exs):\n",
        "      dists[i][j] = np.sqrt(np.sum((X_[i] - X[j]) ** 2))\n",
        "  return dists"
      ],
      "metadata": {
        "id": "ZRi5GcsDFnUL"
      },
      "execution_count": 16,
      "outputs": []
    },
    {
      "cell_type": "code",
      "source": [
        "def predict(X, Y, X_, k):\n",
        "  testing_exs = X_.shape[0]\n",
        "  y_prediction = np.zeros(testing_exs)\n",
        "  dists = distance(X, Y, X_)\n",
        "\n",
        "  for i in range(testing_exs):\n",
        "    sorted_indices = np.argsort(dists[i])[:k]\n",
        "    y_sorted = Y[sorted_indices]\n",
        "    unique, counts = np.unique(y_sorted, return_counts=True)\n",
        "    max_count = np.max(counts)\n",
        "    index = np.where(max_count == counts)\n",
        "    y_preds = unique[index]\n",
        "    y_prediction[i] = np.min(y_preds)\n",
        "  return y_prediction"
      ],
      "metadata": {
        "id": "M5EyRR33GXGt"
      },
      "execution_count": 17,
      "outputs": []
    },
    {
      "cell_type": "code",
      "source": [
        "y_test_pred = predict(X_train, Y_train, X_test, 5)"
      ],
      "metadata": {
        "id": "Q08sFATDJbTc"
      },
      "execution_count": 18,
      "outputs": []
    },
    {
      "cell_type": "code",
      "source": [
        "np.mean(y_test_pred == Y_test)"
      ],
      "metadata": {
        "colab": {
          "base_uri": "https://localhost:8080/"
        },
        "id": "A5pv1QVFJlAj",
        "outputId": "d23d8b64-09d5-4759-9005-fb05386e765e"
      },
      "execution_count": 19,
      "outputs": [
        {
          "output_type": "execute_result",
          "data": {
            "text/plain": [
              "np.float64(0.1167)"
            ]
          },
          "metadata": {},
          "execution_count": 19
        }
      ]
    },
    {
      "cell_type": "code",
      "source": [],
      "metadata": {
        "id": "vJqZktYAJ2VQ"
      },
      "execution_count": null,
      "outputs": []
    }
  ]
}