{
  "nbformat": 4,
  "nbformat_minor": 0,
  "metadata": {
    "colab": {
      "provenance": [],
      "gpuType": "T4"
    },
    "kernelspec": {
      "name": "python3",
      "display_name": "Python 3"
    },
    "language_info": {
      "name": "python"
    },
    "accelerator": "GPU"
  },
  "cells": [
    {
      "cell_type": "code",
      "execution_count": 1,
      "metadata": {
        "id": "SxGlNzgoKmLe"
      },
      "outputs": [],
      "source": [
        "import pandas as pd\n",
        "import numpy as np\n"
      ]
    },
    {
      "cell_type": "code",
      "source": [
        "import tensorflow as tf\n",
        "from tensorflow.keras.datasets import cifar10\n",
        "\n",
        "# Load the dataset\n",
        "(X_train, Y_train), (X_test, Y_test) = cifar10.load_data()\n",
        "\n",
        "# Print shapes of the dataset\n",
        "print(f\"Training set: {X_train.shape}, Labels: {Y_train.shape}\")\n",
        "print(f\"Test set: {X_test.shape}, Labels: {Y_test.shape}\")\n"
      ],
      "metadata": {
        "colab": {
          "base_uri": "https://localhost:8080/"
        },
        "id": "5hAZjdkRKqQS",
        "outputId": "7b074ed1-2654-4a5a-8956-a3d8abc846ce"
      },
      "execution_count": 2,
      "outputs": [
        {
          "output_type": "stream",
          "name": "stdout",
          "text": [
            "Downloading data from https://www.cs.toronto.edu/~kriz/cifar-10-python.tar.gz\n",
            "\u001b[1m170498071/170498071\u001b[0m \u001b[32m━━━━━━━━━━━━━━━━━━━━\u001b[0m\u001b[37m\u001b[0m \u001b[1m6s\u001b[0m 0us/step\n",
            "Training set: (50000, 32, 32, 3), Labels: (50000, 1)\n",
            "Test set: (10000, 32, 32, 3), Labels: (10000, 1)\n"
          ]
        }
      ]
    },
    {
      "cell_type": "code",
      "source": [
        "X_train = X_train[:2000]\n",
        "Y_train = Y_train[:2000]\n",
        "X_test = X_test[:500]\n",
        "Y_test = Y_test[:500]"
      ],
      "metadata": {
        "id": "2yIPAKMyKxQt"
      },
      "execution_count": 3,
      "outputs": []
    },
    {
      "cell_type": "code",
      "source": [
        "X_train = X_train / 255.0\n",
        "X_test = X_test / 255.0"
      ],
      "metadata": {
        "id": "uvwgGza1LODY"
      },
      "execution_count": 4,
      "outputs": []
    },
    {
      "cell_type": "code",
      "source": [
        "X_train = X_train.reshape(2000, 32*32*3)\n",
        "X_test = X_test.reshape(500, 32*32*3)"
      ],
      "metadata": {
        "id": "0Sqmb_8PLZnH"
      },
      "execution_count": 7,
      "outputs": []
    },
    {
      "cell_type": "code",
      "source": [
        "X_train.shape"
      ],
      "metadata": {
        "colab": {
          "base_uri": "https://localhost:8080/"
        },
        "id": "OkwdzDBDLe4J",
        "outputId": "9c1adadc-b5f5-49e2-aaf1-4de450bd3e13"
      },
      "execution_count": 8,
      "outputs": [
        {
          "output_type": "execute_result",
          "data": {
            "text/plain": [
              "(2000, 3072)"
            ]
          },
          "metadata": {},
          "execution_count": 8
        }
      ]
    },
    {
      "cell_type": "code",
      "source": [
        "X_test.shape"
      ],
      "metadata": {
        "colab": {
          "base_uri": "https://localhost:8080/"
        },
        "id": "J7-HLSuHLgCp",
        "outputId": "9c58f19b-655e-4070-8171-00bbb9fe90c2"
      },
      "execution_count": 9,
      "outputs": [
        {
          "output_type": "execute_result",
          "data": {
            "text/plain": [
              "(500, 3072)"
            ]
          },
          "metadata": {},
          "execution_count": 9
        }
      ]
    },
    {
      "cell_type": "code",
      "source": [
        "Y_train = Y_train.reshape(2000, 1)\n",
        "Y_test = Y_test.reshape(500, 1)"
      ],
      "metadata": {
        "id": "YFad1KExLrb9"
      },
      "execution_count": 10,
      "outputs": []
    },
    {
      "cell_type": "code",
      "source": [
        "def distance(X, Y, X_):\n",
        "  training_exs = X.shape[0]\n",
        "  testing_exs = X_.shape[0]\n",
        "  dists = np.zeros((X_.shape[0], X.shape[0]))\n",
        "\n",
        "  for i in range(testing_exs):\n",
        "    dists[i] = np.sqrt(np.sum((X_[i] - X) ** 2, axis=1))\n",
        "  return dists"
      ],
      "metadata": {
        "id": "BBb1sTjMLvSW"
      },
      "execution_count": 13,
      "outputs": []
    },
    {
      "cell_type": "code",
      "source": [
        "def predict(X, Y, X_, k):\n",
        "  testing_exs = X_.shape[0]\n",
        "  y_prediction = np.zeros(testing_exs)\n",
        "  dists = distance(X, Y, X_)\n",
        "\n",
        "  for i in range(testing_exs):\n",
        "    sorted_indices = np.argsort(dists[i])[:k]\n",
        "    y_sorted = Y[sorted_indices]\n",
        "    unique, counts = np.unique(y_sorted, return_counts=True)\n",
        "    max_count = np.max(counts)\n",
        "    index = np.where(counts == max_count)[0]\n",
        "    y_preds = unique[index]\n",
        "    y_prediction[i] = np.min(y_preds)\n",
        "  return y_prediction"
      ],
      "metadata": {
        "id": "vjXhnojuMxrA"
      },
      "execution_count": 18,
      "outputs": []
    },
    {
      "cell_type": "code",
      "source": [
        "y_test_pred = predict(X_train, Y_train, X_test, 5)"
      ],
      "metadata": {
        "id": "3nKK7D62NOpL"
      },
      "execution_count": 21,
      "outputs": []
    },
    {
      "cell_type": "code",
      "source": [
        "np.mean(y_test_pred == Y_test)"
      ],
      "metadata": {
        "colab": {
          "base_uri": "https://localhost:8080/"
        },
        "id": "RSJ2wurNNUzE",
        "outputId": "694f507d-07e7-4fab-8d1a-e49bb8a061e3"
      },
      "execution_count": 22,
      "outputs": [
        {
          "output_type": "execute_result",
          "data": {
            "text/plain": [
              "np.float64(0.103352)"
            ]
          },
          "metadata": {},
          "execution_count": 22
        }
      ]
    },
    {
      "cell_type": "code",
      "source": [],
      "metadata": {
        "id": "-j6OpEYHNZOh"
      },
      "execution_count": null,
      "outputs": []
    }
  ]
}