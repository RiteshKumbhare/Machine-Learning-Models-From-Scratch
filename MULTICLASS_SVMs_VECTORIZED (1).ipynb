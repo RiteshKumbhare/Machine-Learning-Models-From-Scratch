{
  "nbformat": 4,
  "nbformat_minor": 0,
  "metadata": {
    "colab": {
      "provenance": []
    },
    "kernelspec": {
      "name": "python3",
      "display_name": "Python 3"
    },
    "language_info": {
      "name": "python"
    }
  },
  "cells": [
    {
      "cell_type": "code",
      "execution_count": 21,
      "metadata": {
        "id": "pbCQ75NMPiJN"
      },
      "outputs": [],
      "source": [
        "import numpy as np\n",
        "from tensorflow.keras.datasets import mnist\n",
        "\n",
        "(X_full, y_full), (_, _) = mnist.load_data()\n",
        "\n",
        "X_full = X_full.reshape(X_full.shape[0], -1) / 255.0\n",
        "\n",
        "X_train, y_train = X_full[:5000], y_full[:5000]\n",
        "X_test, y_test = X_full[5000:6000], y_full[5000:6000]\n",
        "\n",
        "X_train = np.hstack([X_train, np.ones((X_train.shape[0], 1))])\n",
        "X_test = np.hstack([X_test, np.ones((X_test.shape[0], 1))])"
      ]
    },
    {
      "cell_type": "code",
      "source": [
        "num_classes = 10\n",
        "W = np.random.randn(X_train.shape[1], num_classes) * 0.001"
      ],
      "metadata": {
        "id": "rDheAV3Amcw8"
      },
      "execution_count": 22,
      "outputs": []
    },
    {
      "cell_type": "code",
      "source": [
        "def svm_vectorized(W, X, y, reg):\n",
        "  m = X.shape[0]\n",
        "  loss = 0.0\n",
        "  scores = np.dot(X, W)\n",
        "  correct_class_scores = scores[np.arange(X.shape[0]), y].reshape(-1,1)\n",
        "\n",
        "  margin = np.maximum(0, scores - correct_class_scores + 1)\n",
        "  margin[np.arange(X.shape[0]), y] = 0\n",
        "  loss = np.sum(margin) / m\n",
        "  loss += reg * np.sum(W * W)\n",
        "\n",
        "  binary = (margin > 0).astype(float)\n",
        "  binary[np.arange(X.shape[0]), y] = - np.sum(binary, axis=1)\n",
        "  dW = np.dot(X.T, binary) / m\n",
        "  dW += 2 * reg * W\n",
        "\n",
        "  return loss, dW"
      ],
      "metadata": {
        "id": "cw1mXKlamnhF"
      },
      "execution_count": 23,
      "outputs": []
    },
    {
      "cell_type": "code",
      "source": [
        "def train_svm(X, y, W, learning_rate, reg, num_iters):\n",
        "    for i in range(num_iters):\n",
        "        loss, dW = svm_vectorized(W, X, y, reg)\n",
        "        W -= learning_rate * dW\n",
        "    return W"
      ],
      "metadata": {
        "id": "X-0xWJC7oM-Y"
      },
      "execution_count": 24,
      "outputs": []
    },
    {
      "cell_type": "code",
      "source": [
        "def predict(X, W):\n",
        "    scores = X.dot(W)\n",
        "    return np.argmax(scores, axis=1)"
      ],
      "metadata": {
        "id": "AtF1k23soQFT"
      },
      "execution_count": 25,
      "outputs": []
    },
    {
      "cell_type": "code",
      "source": [
        "learning_rate = 0.001\n",
        "reg = 0.1\n",
        "num_iters = 1000"
      ],
      "metadata": {
        "id": "zQTbUoUwoSr3"
      },
      "execution_count": 26,
      "outputs": []
    },
    {
      "cell_type": "code",
      "source": [
        "W = train_svm(X_train, y_train, W, learning_rate, reg, num_iters)"
      ],
      "metadata": {
        "id": "ybvc0XxeoW9Z"
      },
      "execution_count": 27,
      "outputs": []
    },
    {
      "cell_type": "code",
      "source": [
        "y_train_pred = predict(X_train, W)\n",
        "y_test_pred = predict(X_test, W)"
      ],
      "metadata": {
        "id": "6l16e3Avotgy"
      },
      "execution_count": 28,
      "outputs": []
    },
    {
      "cell_type": "code",
      "source": [
        "\n",
        "train_accuracy = np.mean(y_train_pred == y_train)\n",
        "test_accuracy = np.mean(y_test_pred == y_test)\n",
        "\n",
        "print(\"Training Accuracy:\", train_accuracy)\n",
        "print(\"Testing Accuracy:\", test_accuracy)"
      ],
      "metadata": {
        "colab": {
          "base_uri": "https://localhost:8080/"
        },
        "id": "NGGtuL8bpCyz",
        "outputId": "ea1ca3c3-e586-4701-af9d-945bdd27a219"
      },
      "execution_count": 29,
      "outputs": [
        {
          "output_type": "stream",
          "name": "stdout",
          "text": [
            "Training Accuracy: 0.8852\n",
            "Testing Accuracy: 0.881\n"
          ]
        }
      ]
    },
    {
      "cell_type": "code",
      "source": [],
      "metadata": {
        "id": "7oO9QfTDpErZ"
      },
      "execution_count": null,
      "outputs": []
    }
  ]
}