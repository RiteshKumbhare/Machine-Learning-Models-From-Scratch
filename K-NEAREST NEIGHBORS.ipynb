{
 "cells": [
  {
   "cell_type": "code",
   "execution_count": 14,
   "id": "879aa442-4187-44ef-877f-6679be4f2b1d",
   "metadata": {},
   "outputs": [],
   "source": [
    "import pandas as pd\n",
    "import numpy as np\n",
    "import matplotlib.pyplot as plt"
   ]
  },
  {
   "cell_type": "code",
   "execution_count": 15,
   "id": "e2caea3e-b70c-4b3b-bbdd-9b763082ff30",
   "metadata": {},
   "outputs": [
    {
     "data": {
      "text/html": [
       "<div>\n",
       "<style scoped>\n",
       "    .dataframe tbody tr th:only-of-type {\n",
       "        vertical-align: middle;\n",
       "    }\n",
       "\n",
       "    .dataframe tbody tr th {\n",
       "        vertical-align: top;\n",
       "    }\n",
       "\n",
       "    .dataframe thead th {\n",
       "        text-align: right;\n",
       "    }\n",
       "</style>\n",
       "<table border=\"1\" class=\"dataframe\">\n",
       "  <thead>\n",
       "    <tr style=\"text-align: right;\">\n",
       "      <th></th>\n",
       "      <th>ID</th>\n",
       "      <th>Feature_1</th>\n",
       "      <th>Feature_2</th>\n",
       "      <th>Feature_3</th>\n",
       "      <th>Feature_4</th>\n",
       "      <th>Feature_5</th>\n",
       "      <th>Feature_6</th>\n",
       "      <th>Feature_7</th>\n",
       "      <th>Feature_8</th>\n",
       "      <th>Feature_9</th>\n",
       "      <th>...</th>\n",
       "      <th>Feature_12</th>\n",
       "      <th>Feature_13</th>\n",
       "      <th>Feature_14</th>\n",
       "      <th>Feature_15</th>\n",
       "      <th>Feature_16</th>\n",
       "      <th>Feature_17</th>\n",
       "      <th>Feature_18</th>\n",
       "      <th>Feature_19</th>\n",
       "      <th>Feature_20</th>\n",
       "      <th>Class</th>\n",
       "    </tr>\n",
       "  </thead>\n",
       "  <tbody>\n",
       "    <tr>\n",
       "      <th>0</th>\n",
       "      <td>1</td>\n",
       "      <td>-90.532634</td>\n",
       "      <td>-66.953472</td>\n",
       "      <td>79.261856</td>\n",
       "      <td>-111.800554</td>\n",
       "      <td>126.403549</td>\n",
       "      <td>111.509348</td>\n",
       "      <td>207.728953</td>\n",
       "      <td>-26.600556</td>\n",
       "      <td>-106.229324</td>\n",
       "      <td>...</td>\n",
       "      <td>148.391734</td>\n",
       "      <td>77.835738</td>\n",
       "      <td>-10.728207</td>\n",
       "      <td>1.100625</td>\n",
       "      <td>1.035362</td>\n",
       "      <td>-87.010809</td>\n",
       "      <td>-16.242297</td>\n",
       "      <td>-32.074925</td>\n",
       "      <td>-17.666026</td>\n",
       "      <td>1</td>\n",
       "    </tr>\n",
       "    <tr>\n",
       "      <th>1</th>\n",
       "      <td>2</td>\n",
       "      <td>-103.156720</td>\n",
       "      <td>-16.070400</td>\n",
       "      <td>87.819228</td>\n",
       "      <td>12.614599</td>\n",
       "      <td>51.347780</td>\n",
       "      <td>67.483725</td>\n",
       "      <td>40.269172</td>\n",
       "      <td>51.442254</td>\n",
       "      <td>-151.486693</td>\n",
       "      <td>...</td>\n",
       "      <td>29.009475</td>\n",
       "      <td>3.995786</td>\n",
       "      <td>-10.861630</td>\n",
       "      <td>-142.605726</td>\n",
       "      <td>-25.924592</td>\n",
       "      <td>-86.755351</td>\n",
       "      <td>-36.479749</td>\n",
       "      <td>-130.246619</td>\n",
       "      <td>-44.143652</td>\n",
       "      <td>2</td>\n",
       "    </tr>\n",
       "    <tr>\n",
       "      <th>2</th>\n",
       "      <td>3</td>\n",
       "      <td>24.326153</td>\n",
       "      <td>-92.098078</td>\n",
       "      <td>82.238354</td>\n",
       "      <td>-56.795879</td>\n",
       "      <td>85.203996</td>\n",
       "      <td>127.916504</td>\n",
       "      <td>-90.080307</td>\n",
       "      <td>-128.124071</td>\n",
       "      <td>18.036020</td>\n",
       "      <td>...</td>\n",
       "      <td>111.810098</td>\n",
       "      <td>65.826018</td>\n",
       "      <td>-101.271203</td>\n",
       "      <td>-44.127749</td>\n",
       "      <td>-7.131464</td>\n",
       "      <td>-105.049759</td>\n",
       "      <td>-130.948256</td>\n",
       "      <td>-43.113523</td>\n",
       "      <td>-37.330448</td>\n",
       "      <td>4</td>\n",
       "    </tr>\n",
       "    <tr>\n",
       "      <th>3</th>\n",
       "      <td>4</td>\n",
       "      <td>-64.631737</td>\n",
       "      <td>-83.703583</td>\n",
       "      <td>84.135072</td>\n",
       "      <td>-5.516152</td>\n",
       "      <td>74.338494</td>\n",
       "      <td>112.630556</td>\n",
       "      <td>181.576798</td>\n",
       "      <td>-1.054023</td>\n",
       "      <td>60.469865</td>\n",
       "      <td>...</td>\n",
       "      <td>50.047108</td>\n",
       "      <td>100.439101</td>\n",
       "      <td>-117.842955</td>\n",
       "      <td>150.239788</td>\n",
       "      <td>-144.635542</td>\n",
       "      <td>-144.306209</td>\n",
       "      <td>-69.272905</td>\n",
       "      <td>-79.629675</td>\n",
       "      <td>-51.334456</td>\n",
       "      <td>2</td>\n",
       "    </tr>\n",
       "    <tr>\n",
       "      <th>4</th>\n",
       "      <td>5</td>\n",
       "      <td>-55.473830</td>\n",
       "      <td>-78.853237</td>\n",
       "      <td>88.129107</td>\n",
       "      <td>75.200543</td>\n",
       "      <td>76.991520</td>\n",
       "      <td>60.224711</td>\n",
       "      <td>-13.106559</td>\n",
       "      <td>-146.773016</td>\n",
       "      <td>-33.490566</td>\n",
       "      <td>...</td>\n",
       "      <td>85.988282</td>\n",
       "      <td>23.381960</td>\n",
       "      <td>11.876102</td>\n",
       "      <td>-188.296503</td>\n",
       "      <td>-80.323929</td>\n",
       "      <td>-56.757987</td>\n",
       "      <td>-20.314172</td>\n",
       "      <td>-42.625170</td>\n",
       "      <td>-24.102753</td>\n",
       "      <td>2</td>\n",
       "    </tr>\n",
       "  </tbody>\n",
       "</table>\n",
       "<p>5 rows × 22 columns</p>\n",
       "</div>"
      ],
      "text/plain": [
       "   ID   Feature_1  Feature_2  Feature_3   Feature_4   Feature_5   Feature_6  \\\n",
       "0   1  -90.532634 -66.953472  79.261856 -111.800554  126.403549  111.509348   \n",
       "1   2 -103.156720 -16.070400  87.819228   12.614599   51.347780   67.483725   \n",
       "2   3   24.326153 -92.098078  82.238354  -56.795879   85.203996  127.916504   \n",
       "3   4  -64.631737 -83.703583  84.135072   -5.516152   74.338494  112.630556   \n",
       "4   5  -55.473830 -78.853237  88.129107   75.200543   76.991520   60.224711   \n",
       "\n",
       "    Feature_7   Feature_8   Feature_9  ...  Feature_12  Feature_13  \\\n",
       "0  207.728953  -26.600556 -106.229324  ...  148.391734   77.835738   \n",
       "1   40.269172   51.442254 -151.486693  ...   29.009475    3.995786   \n",
       "2  -90.080307 -128.124071   18.036020  ...  111.810098   65.826018   \n",
       "3  181.576798   -1.054023   60.469865  ...   50.047108  100.439101   \n",
       "4  -13.106559 -146.773016  -33.490566  ...   85.988282   23.381960   \n",
       "\n",
       "   Feature_14  Feature_15  Feature_16  Feature_17  Feature_18  Feature_19  \\\n",
       "0  -10.728207    1.100625    1.035362  -87.010809  -16.242297  -32.074925   \n",
       "1  -10.861630 -142.605726  -25.924592  -86.755351  -36.479749 -130.246619   \n",
       "2 -101.271203  -44.127749   -7.131464 -105.049759 -130.948256  -43.113523   \n",
       "3 -117.842955  150.239788 -144.635542 -144.306209  -69.272905  -79.629675   \n",
       "4   11.876102 -188.296503  -80.323929  -56.757987  -20.314172  -42.625170   \n",
       "\n",
       "   Feature_20  Class  \n",
       "0  -17.666026      1  \n",
       "1  -44.143652      2  \n",
       "2  -37.330448      4  \n",
       "3  -51.334456      2  \n",
       "4  -24.102753      2  \n",
       "\n",
       "[5 rows x 22 columns]"
      ]
     },
     "execution_count": 15,
     "metadata": {},
     "output_type": "execute_result"
    }
   ],
   "source": [
    "data = pd.read_csv(\"C:\\\\Users\\\\AK\\\\Downloads\\\\multi_classification_train.csv\")\n",
    "data.head()"
   ]
  },
  {
   "cell_type": "code",
   "execution_count": 16,
   "id": "be40b3ca-2ed8-4185-a50c-f070841f5641",
   "metadata": {},
   "outputs": [],
   "source": [
    "X = data.iloc[:, 1:-1].to_numpy()  \n",
    "y = data.iloc[:, -1].to_numpy()"
   ]
  },
  {
   "cell_type": "code",
   "execution_count": 17,
   "id": "30591df6-6400-4c3a-b80b-1716ee74cc98",
   "metadata": {},
   "outputs": [],
   "source": [
    "split_length = int(0.8 * len(y))\n",
    "X_train, X_dev = X[:split_length], X[split_length:]\n",
    "y_train, y_dev = y[:split_length], y[split_length:]"
   ]
  },
  {
   "cell_type": "code",
   "execution_count": 18,
   "id": "710c9608-fb87-41ef-b4b9-0ec6600cd942",
   "metadata": {},
   "outputs": [],
   "source": [
    "X_train_mean = np.mean(X_train, axis=0)\n",
    "X_train_std = np.std(X_train, axis=0)\n",
    "X_train = (X_train - X_train_mean) / X_train_std\n",
    "X_dev = (X_dev - X_train_mean) / X_train_std"
   ]
  },
  {
   "cell_type": "code",
   "execution_count": 19,
   "id": "686c5429-9060-4695-b9a9-c7363397abf2",
   "metadata": {},
   "outputs": [],
   "source": [
    "def knn(X, y, X_, k=3):\n",
    "    prediction = []\n",
    "    for i in X_:\n",
    "        distances = np.linalg.norm(X - i, axis=1)\n",
    "        nearest_indexes = np.argsort(distances)[:k]\n",
    "        required_labels = y[nearest_indexes]\n",
    "        unique, counts = np.unique(required_labels, return_counts=True)\n",
    "        majority = unique[np.argmax(counts)]\n",
    "        prediction.append(majority)\n",
    "    return np.array(prediction)"
   ]
  },
  {
   "cell_type": "code",
   "execution_count": 20,
   "id": "fd34b8d1-889e-4eed-ae76-12b152a09896",
   "metadata": {},
   "outputs": [],
   "source": [
    "def accuracy(y_true, y_pred):\n",
    "    return np.mean(y_true == y_pred) * 100"
   ]
  },
  {
   "cell_type": "code",
   "execution_count": 22,
   "id": "5c6ff4ec-480a-4fe2-8fee-19b122bc37b1",
   "metadata": {},
   "outputs": [],
   "source": [
    "def calculate_precision(y_true, y_pred):\n",
    "    classes = np.unique(y_true)\n",
    "    precisions = []\n",
    "    for cls in classes:\n",
    "        tp = np.sum((y_true==cls) & (y_pred==cls))\n",
    "        fp = np.sum((y_true != cls) & (y_pred==cls))\n",
    "        precision = (tp / (tp + fp)) if (tp + fp) != 0 else 0\n",
    "        precisions.append(precision)\n",
    "    return np.mean(precisions)"
   ]
  },
  {
   "cell_type": "code",
   "execution_count": 23,
   "id": "cf524e3d-afde-419e-8b86-be2ca5a84ff0",
   "metadata": {},
   "outputs": [],
   "source": [
    "def calculate_recall(y_true, y_pred):\n",
    "    classes = np.unique(y_true)\n",
    "    recalls = []\n",
    "    for cls in classes:\n",
    "        tp = np.sum((y_true == cls) & (y_pred == cls))\n",
    "        fn = np.sum((y_true == cls) & (y_pred != cls))\n",
    "        recall = (tp / (tp + fn)) if (tp + fn) != 0 else 0\n",
    "        recalls.append(recall)\n",
    "    return np.mean(recalls)"
   ]
  },
  {
   "cell_type": "code",
   "execution_count": 24,
   "id": "fdd33baa-daf3-47ef-a155-3115bbe76ab3",
   "metadata": {},
   "outputs": [],
   "source": [
    "def f1_score(precision, recall):\n",
    "    return (2 * precision * recall) / (precision + recall) if (precision + recall) != 0 else 0"
   ]
  },
  {
   "cell_type": "code",
   "execution_count": 25,
   "id": "ca2f03f2-4b28-4689-a1f3-f8d5655e0c18",
   "metadata": {},
   "outputs": [],
   "source": [
    "best_k = 6"
   ]
  },
  {
   "cell_type": "code",
   "execution_count": 26,
   "id": "1f0f5778-e1f2-4f89-868e-a79c719e1149",
   "metadata": {},
   "outputs": [],
   "source": [
    "y_train_pred = knn(X_train, y_train, X_train, best_k)\n",
    "y_dev_pred = knn(X_train, y_train, X_dev, best_k)"
   ]
  },
  {
   "cell_type": "code",
   "execution_count": 27,
   "id": "b256ef20-1986-439a-bf82-24628390a367",
   "metadata": {},
   "outputs": [
    {
     "name": "stdout",
     "output_type": "stream",
     "text": [
      "TRAINING ACCURACY IS: 96.13541666666666%\n",
      "DEVELOPMENT ACCURACY IS: 95.38541666666667%\n"
     ]
    }
   ],
   "source": [
    "accuracy_train = accuracy(y_train, y_train_pred)\n",
    "accuracy_dev = accuracy(y_dev, y_dev_pred)\n",
    "print(f\"TRAINING ACCURACY IS: {accuracy_train}%\")\n",
    "print(f\"DEVELOPMENT ACCURACY IS: {accuracy_dev}%\")"
   ]
  },
  {
   "cell_type": "code",
   "execution_count": 28,
   "id": "90e7458a-f0d7-4564-a636-0780e4fd56f7",
   "metadata": {},
   "outputs": [
    {
     "name": "stdout",
     "output_type": "stream",
     "text": [
      "TRAINING PRECISION IS: 0.9597916366689978\n",
      "DEVELOPMENT PRECISION IS: 0.9516713648968661\n"
     ]
    }
   ],
   "source": [
    "train_precision = calculate_precision(y_train, y_train_pred)\n",
    "dev_precision = calculate_precision(y_dev, y_dev_pred)\n",
    "print(f\"TRAINING PRECISION IS: {train_precision}\")\n",
    "print(f\"DEVELOPMENT PRECISION IS: {dev_precision}\")"
   ]
  },
  {
   "cell_type": "code",
   "execution_count": 29,
   "id": "55da6485-045b-4815-a0e5-4b55259df4b6",
   "metadata": {},
   "outputs": [
    {
     "name": "stdout",
     "output_type": "stream",
     "text": [
      "TRAINING RECALL IS: 0.9445326055315062\n",
      "DEVELOPMENT RECALL IS: 0.9356595910260769\n"
     ]
    }
   ],
   "source": [
    "train_recall = calculate_recall(y_train, y_train_pred)\n",
    "dev_recall = calculate_recall(y_dev, y_dev_pred)\n",
    "print(f\"TRAINING RECALL IS: {train_recall}\")\n",
    "print(f\"DEVELOPMENT RECALL IS: {dev_recall}\")"
   ]
  },
  {
   "cell_type": "code",
   "execution_count": 30,
   "id": "6d1d8dfb-7476-478e-b392-120d4769a818",
   "metadata": {},
   "outputs": [
    {
     "name": "stdout",
     "output_type": "stream",
     "text": [
      "TRAINING F1 SCORE IS: 0.9521009870701075\n",
      "DEVELOPMENT F1 SCORE IS: 0.9435975574672717\n"
     ]
    }
   ],
   "source": [
    "train_f1score = f1_score(train_precision, train_recall)\n",
    "dev_f1score = f1_score(dev_precision, dev_recall)\n",
    "print(f\"TRAINING F1 SCORE IS: {train_f1score}\")\n",
    "print(f\"DEVELOPMENT F1 SCORE IS: {dev_f1score}\")"
   ]
  }
 ],
 "metadata": {
  "kernelspec": {
   "display_name": "Python 3 (ipykernel)",
   "language": "python",
   "name": "python3"
  },
  "language_info": {
   "codemirror_mode": {
    "name": "ipython",
    "version": 3
   },
   "file_extension": ".py",
   "mimetype": "text/x-python",
   "name": "python",
   "nbconvert_exporter": "python",
   "pygments_lexer": "ipython3",
   "version": "3.11.3"
  }
 },
 "nbformat": 4,
 "nbformat_minor": 5
}
